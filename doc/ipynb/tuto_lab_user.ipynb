{
 "cells": [
  {
   "cell_type": "code",
   "execution_count": 1,
   "metadata": {
    "collapsed": false
   },
   "outputs": [],
   "source": [
    "%matplotlib inline\n",
    "import os\n",
    "import fluiddyn as fld\n",
    "import fluidlab"
   ]
  },
  {
   "cell_type": "markdown",
   "metadata": {},
   "source": [
    "# Tutorial: working in the laboratory (user perspective)"
   ]
  },
  {
   "cell_type": "markdown",
   "metadata": {},
   "source": [
    "FluidDyn uses the object-oriented programming concepts. It deals with objects, which is a very natural way to represent and drive\n",
    "experiments since experiments consist in objects interacting with each other.\n",
    "\n",
    "Regarding the laboratory, each physical object (a pump, a traverse, a probe, an acquisition board, a tank filled with a stratified fluid...) is represented and controlled by an instance of a class. The experimental results can also be represented by other types of objects."
   ]
  },
  {
   "cell_type": "markdown",
   "metadata": {},
   "source": [
    "## Example of a conductivity probe attached to a moving traverse"
   ]
  },
  {
   "cell_type": "raw",
   "metadata": {
    "raw_mimetype": "text/restructuredtext"
   },
   "source": [
    "Let's consider a real-life example, how to use a conductivity probe attached to a moving traverse. FluidDyn provides the class \n",
    ":class:`fluiddyn.lab.probes.MovingConductivityProbe` which can be used like this:"
   ]
  },
  {
   "cell_type": "code",
   "execution_count": 2,
   "metadata": {
    "collapsed": false
   },
   "outputs": [],
   "source": [
    "# import the class representing the moving conductivity probe\n",
    "from fluidlab.objects.probes import MovingConductivityProbe\n",
    "\n",
    "# create an instance of this class\n",
    "probe = MovingConductivityProbe()\n",
    "\n",
    "try:\n",
    "    # set a parameter, the sample rate (in Hz)\n",
    "    probe.set_sample_rate(2000)\n",
    "\n",
    "    # just move the probe (in mm and mm/s)\n",
    "    probe.move(deltaz=-100, speed=50)\n",
    "\n",
    "    # just measure without moving (in s)\n",
    "    measurements1 = probe.measure(duration=5)\n",
    "\n",
    "    # move and measure (in mm and mm/s)\n",
    "    measurements2 = probe.move_measure(deltaz=100, speed=100)\n",
    "except AttributeError:\n",
    "    pass"
   ]
  },
  {
   "cell_type": "raw",
   "metadata": {},
   "source": [
    "Of course this is a very simple example and there are more options to create the object *probe* and for the functions. Look at the\n",
    "documentation, i.e. in this case here: :class:`fluiddyn.lab.probes.MovingConductivityProbe`."
   ]
  },
  {
   "cell_type": "markdown",
   "metadata": {},
   "source": [
    "## Save and load an object"
   ]
  },
  {
   "cell_type": "raw",
   "metadata": {},
   "source": [
    "For some classes of FluidDyn, the objects can be saved in a file and loaded afterwards. This is a very useful feature! To see how it works, we can consider the example of a tank filled with a stratified fluid, which is represented by the class\n",
    ":class:`fluiddyn.lab.tanks.StratifiedTank`. Let's first see how we create a tank:"
   ]
  },
  {
   "cell_type": "code",
   "execution_count": 3,
   "metadata": {
    "collapsed": false
   },
   "outputs": [],
   "source": [
    "from fluidlab.objects.tanks import StratifiedTank\n",
    "\n",
    "# create a tank with a linear stratification (see the doc of the class)\n",
    "tank = StratifiedTank(\n",
    "    H=550, S=100, \n",
    "    z=[0, 500], rho=[1.1, 1])"
   ]
  },
  {
   "cell_type": "raw",
   "metadata": {},
   "source": [
    "The numerical object *tank* contains some information and can be use to do useful. We can for example fill the physical tank with the wanted profile (which makes use of some pumps also controlled by FluidDyn, see the class :class:`fluiddyn.lab.pumps.MasterFlexPumps`):"
   ]
  },
  {
   "cell_type": "code",
   "execution_count": 4,
   "metadata": {
    "collapsed": false
   },
   "outputs": [
    {
     "name": "stdout",
     "output_type": "stream",
     "text": [
      "\n",
      "Warning: can not fill without pumps. It will only perform a test of\n",
      "the filling. To really fill the tank, set argument pumps to True or to\n",
      "an instance of class MasterFlexPumps.\n",
      "\n",
      "flowrate_tot: 840.00 ml/min\n",
      "vol_to_pump: 192.00 ml\n",
      "time for the filling:  0.23 min\n",
      "volume pumped / volume to pump = 0.0729\r",
      "volume pumped / volume to pump = 0.1458\r",
      "volume pumped / volume to pump = 0.2188\r",
      "volume pumped / volume to pump = 0.2917\r",
      "volume pumped / volume to pump = 0.3646\r",
      "volume pumped / volume to pump = 0.4375\r",
      "volume pumped / volume to pump = 0.5104\r",
      "volume pumped / volume to pump = 0.5833\r",
      "volume pumped / volume to pump = 0.6562\r",
      "volume pumped / volume to pump = 0.7292\r",
      "volume pumped / volume to pump = 0.8021\r",
      "volume pumped / volume to pump = 0.8750\r",
      "volume pumped / volume to pump = 0.9479\r\n",
      "The filling is finished.\n"
     ]
    },
    {
     "data": {
      "image/png": "[encoded data removed]",
      "text/plain": [
       "<matplotlib.figure.Figure at 0x7f4e105f5c50>"
      ]
     },
     "metadata": {},
     "output_type": "display_data"
    },
    {
     "data": {
      "image/png": "[encoded data removed]",
      "text/plain": [
       "<matplotlib.figure.Figure at 0x7f4dea706f50>"
      ]
     },
     "metadata": {},
     "output_type": "display_data"
    }
   ],
   "source": [
    "tank.fill()"
   ]
  },
  {
   "cell_type": "markdown",
   "metadata": {},
   "source": [
    "The numerical object *tank* can be saved in a file tank.h5 with its function *save* (the documentation explains how to control where the file is saved):"
   ]
  },
  {
   "cell_type": "code",
   "execution_count": 5,
   "metadata": {
    "collapsed": false
   },
   "outputs": [],
   "source": [
    "if os.path.exists('/tmp/tank.h5'):\n",
    "    os.remove('/tmp/tank.h5')"
   ]
  },
  {
   "cell_type": "code",
   "execution_count": 6,
   "metadata": {
    "collapsed": false
   },
   "outputs": [],
   "source": [
    "tank.save('/tmp')"
   ]
  },
  {
   "cell_type": "raw",
   "metadata": {},
   "source": [
    "If we come back some days later and we want to use again this particular instance of :class:`fluiddyn.lab.tanks.StratifiedTank`.\n",
    "Let's assume that the file is in a directory ``/tmp/exp0``.  If we really know that this file contains the information for loading an object of :class:`fluiddyn.lab.tanks.StratifiedTank`, we can obtain the numerical representation of the tank by doing:"
   ]
  },
  {
   "cell_type": "code",
   "execution_count": 7,
   "metadata": {
    "collapsed": false
   },
   "outputs": [],
   "source": [
    "del(tank)\n",
    "tank = StratifiedTank(str_path='/tmp')"
   ]
  },
  {
   "cell_type": "raw",
   "metadata": {},
   "source": [
    "But most of the case, it is easier and safer to use the function :func:`fluiddyn.util.util.create_object_from_file` like this:"
   ]
  },
  {
   "cell_type": "code",
   "execution_count": 8,
   "metadata": {
    "collapsed": false
   },
   "outputs": [],
   "source": [
    "path_to_tank_h5 = '/tmp/tank.h5'\n",
    "tank = fld.create_object_from_file(path_to_tank_h5)"
   ]
  },
  {
   "cell_type": "raw",
   "metadata": {},
   "source": [
    "The function :func:`create_object_from_file` gets the correct class from information written in the file, calls the constructor of this class and return the object."
   ]
  },
  {
   "cell_type": "code",
   "execution_count": 9,
   "metadata": {
    "collapsed": false
   },
   "outputs": [
    {
     "data": {
      "image/png": "[encoded data removed]",
      "text/plain": [
       "<matplotlib.figure.Figure at 0x7f4de9e13290>"
      ]
     },
     "metadata": {},
     "output_type": "display_data"
    }
   ],
   "source": [
    "tank.profile.plot()"
   ]
  },
  {
   "cell_type": "markdown",
   "metadata": {},
   "source": [
    "## Representation of an experiment"
   ]
  },
  {
   "cell_type": "raw",
   "metadata": {},
   "source": [
    "Physically, an experiment consists in interacting objects.  The\n",
    "experimentalist wants to control the actions of the objects with a\n",
    "good control in space and time and in a reproducible way. The results\n",
    "are then measurements produced by the measuring objects.  Usually,\n",
    "after the experiment has been set up, it is repeated a number of times\n",
    "in order to vary some parameters.\n",
    "\n",
    "A experimental set-up is represented in FluidDyn by a class derived\n",
    "from the class :class:`fluiddyn.lab.exp.base.Experiment`.  The\n",
    "experiment class has attributes that represent the physical objects\n",
    "interacting in the experimental set-up.\n",
    "\n",
    "Each realisation of the experimental set-up (with a particular set of\n",
    "parameters) is represented by an instance of the experiment\n",
    "class. Each experiment (each realisation) is associated with a\n",
    "particular directory.\n",
    "\n",
    "In order to create a class, do for example:"
   ]
  },
  {
   "cell_type": "code",
   "execution_count": 10,
   "metadata": {
    "collapsed": false
   },
   "outputs": [
    {
     "data": {
      "text/plain": [
       "['board',\n",
       " 'description',\n",
       " 'first_creation',\n",
       " 'name_dir',\n",
       " 'params',\n",
       " 'path_save',\n",
       " 'profiles',\n",
       " 'save_script',\n",
       " 'tank',\n",
       " 'time_start']"
      ]
     },
     "execution_count": 10,
     "metadata": {},
     "output_type": "execute_result"
    }
   ],
   "source": [
    "from fluidlab.exp.taylorcouette.linearprofile import ILSTaylorCouetteExp\n",
    "\n",
    "exp = ILSTaylorCouetteExp(\n",
    "    rho_max=1.1, N0=1., prop_homog=0.1,\n",
    "    Omega1=0.4, Omega2=0, R1=150, R2=200,\n",
    "    description=\"\"\"This experiment is for the tutorial.\"\"\")\n",
    "\n",
    "[attr for attr in dir(exp) if not attr.startswith('_')]"
   ]
  },
  {
   "cell_type": "code",
   "execution_count": 11,
   "metadata": {
    "collapsed": false
   },
   "outputs": [
    {
     "name": "stdout",
     "output_type": "stream",
     "text": [
      "\n",
      "Experiment in a Taylor-Couette.\n",
      "\n",
      "This tank is 520 mm high. The radius of the outer cylinder is\n",
      "approximately   200 mm.\n",
      "\n",
      "\n",
      "Initially linear stratification (ILS)...\n",
      "\n",
      "This experiment is for the tutorial.\n"
     ]
    }
   ],
   "source": [
    "print(exp.description)"
   ]
  },
  {
   "cell_type": "code",
   "execution_count": 12,
   "metadata": {
    "collapsed": false
   },
   "outputs": [
    {
     "name": "stdout",
     "output_type": "stream",
     "text": [
      "/home/users/augier3pi/Exp_data/TaylorCouette/ILS/Exp_Omega1=0.40_N0=1.00_2015-06-24_17-32-49\n"
     ]
    }
   ],
   "source": [
    "print(exp.path_save)"
   ]
  },
  {
   "cell_type": "markdown",
   "metadata": {},
   "source": [
    "When this experiment has been created, the description files have been automatically saved in the \"right\" place. This \"right\" place being defined in the class of the experiment. Then we can easily reload the experiment."
   ]
  },
  {
   "cell_type": "code",
   "execution_count": 13,
   "metadata": {
    "collapsed": false
   },
   "outputs": [
    {
     "name": "stdout",
     "output_type": "stream",
     "text": [
      "/home/users/augier3pi/Exp_data/TaylorCouette/ILS/Exp_Omega1=0.40_N0=1.00_2015-06-24_17-14-39\n",
      "R2 = 200\n"
     ]
    }
   ],
   "source": [
    "path_save = exp.path_save\n",
    "del(exp)\n",
    "exp = fluidlab.load_exp(path_save[-20:-5])\n",
    "print(exp.path_save)\n",
    "print('R2 = {}'.format(exp.params['R2']))"
   ]
  },
  {
   "cell_type": "raw",
   "metadata": {},
   "source": [
    "Note that I deliberately only use the string\n",
    "``path_save[-20:-5]`` to show that\n",
    ":func:`fld.load_exp` is sufficiently clever to find out an experiment\n",
    "that corresponds to this string. Be careful to provide a sufficiently\n",
    "long string to be sure to load the wanted experiment."
   ]
  }
 ],
 "metadata": {
  "kernelspec": {
   "display_name": "Python 2",
   "language": "python",
   "name": "python2"
  },
  "language_info": {
   "codemirror_mode": {
    "name": "ipython",
    "version": 2
   },
   "file_extension": ".py",
   "mimetype": "text/x-python",
   "name": "python",
   "nbconvert_exporter": "python",
   "pygments_lexer": "ipython2",
   "version": "2.7.9"
  }
 },
 "nbformat": 4,
 "nbformat_minor": 0
}
